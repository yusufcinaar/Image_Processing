{
 "cells": [
  {
   "cell_type": "code",
   "execution_count": 1,
   "id": "caee749c-4375-480e-baad-37677261ea76",
   "metadata": {},
   "outputs": [
    {
     "name": "stderr",
     "output_type": "stream",
     "text": [
      "C:\\Users\\yusuf\\anaconda3\\envs\\env_bst4\\lib\\site-packages\\tqdm\\auto.py:21: TqdmWarning: IProgress not found. Please update jupyter and ipywidgets. See https://ipywidgets.readthedocs.io/en/stable/user_install.html\n",
      "  from .autonotebook import tqdm as notebook_tqdm\n",
      "C:\\Users\\yusuf\\anaconda3\\envs\\env_bst4\\lib\\site-packages\\RealESRGAN\\model.py:59: FutureWarning: `torch.cuda.amp.autocast(args...)` is deprecated. Please use `torch.amp.autocast('cuda', args...)` instead.\n",
      "  @torch.cuda.amp.autocast()\n",
      "C:\\Users\\yusuf\\anaconda3\\envs\\env_bst4\\lib\\site-packages\\torch\\amp\\autocast_mode.py:266: UserWarning: User provided device_type of 'cuda', but CUDA is not available. Disabling\n",
      "  warnings.warn(\n"
     ]
    }
   ],
   "source": [
    "import torch\n",
    "from PIL import Image\n",
    "import numpy as np\n",
    "from RealESRGAN import RealESRGAN\n",
    "import time"
   ]
  },
  {
   "cell_type": "code",
   "execution_count": 15,
   "id": "3487ba88-4afe-458f-b6b7-f07e1f496234",
   "metadata": {},
   "outputs": [
    {
     "name": "stderr",
     "output_type": "stream",
     "text": [
      "Downloading: 100%|████████████████████████████████████████████████████████████████| 67.2M/67.2M [00:23<00:00, 2.91MB/s]\n"
     ]
    },
    {
     "name": "stdout",
     "output_type": "stream",
     "text": [
      "Weights downloaded to: weights\\RealESRGAN_x8.pth\n",
      "Görüntü çözünürlük arttırma işlemi başladı...\n",
      "görüntü oluşturuldu. Toplam süre= 34.899158000946045\n"
     ]
    }
   ],
   "source": [
    "device = torch.device(\"cuda\" if torch.cuda.is_available()else \"cpu\")\n",
    "\n",
    "model= RealESRGAN(device , scale=8)\n",
    "model.load_weights(\"weights/RealESRGAN_x8.pth\", download =True)\n",
    "\n",
    "my_img_path=\"inputs/(insta_username)_profile_pic.png\"\n",
    "\n",
    "my_img = Image.open(my_img_path).convert(\"RGB\")\n",
    "\n",
    "sure_basla = time.time()\n",
    "print(\"Görüntü çözünürlük arttırma işlemi başladı...\")\n",
    "\n",
    "new_img=model.predict(my_img)\n",
    "\n",
    "sure_bitir = time.time()\n",
    "\n",
    "new_img.save(\"results/deneme8.png\")\n",
    "print(f\"görüntü oluşturuldu. Toplam süre= {str(sure_bitir-sure_basla)}\")"
   ]
  },
  {
   "cell_type": "code",
   "execution_count": null,
   "id": "6661927f-5672-4cde-8950-3b8e5b5bb651",
   "metadata": {},
   "outputs": [],
   "source": []
  }
 ],
 "metadata": {
  "kernelspec": {
   "display_name": "myenv_bst4",
   "language": "python",
   "name": "myenv_bst4"
  },
  "language_info": {
   "codemirror_mode": {
    "name": "ipython",
    "version": 3
   },
   "file_extension": ".py",
   "mimetype": "text/x-python",
   "name": "python",
   "nbconvert_exporter": "python",
   "pygments_lexer": "ipython3",
   "version": "3.10.10"
  }
 },
 "nbformat": 4,
 "nbformat_minor": 5
}
