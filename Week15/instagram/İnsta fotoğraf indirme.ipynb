{
 "cells": [
  {
   "cell_type": "code",
   "execution_count": 1,
   "id": "dff4a2b6-dd66-4e2b-bb3f-fcb004e5f558",
   "metadata": {},
   "outputs": [],
   "source": [
    "import requests\n",
    "import instaloader"
   ]
  },
  {
   "cell_type": "code",
   "execution_count": 24,
   "id": "4fda4ad1-563e-43e7-bda5-a0eaf9e22061",
   "metadata": {},
   "outputs": [],
   "source": [
    "with open(\"./insta.txt\",encoding=\"utf-8\") as dosya :\n",
    "    my_list=dosya.readlines()\n",
    "\n",
    "my_username=my_list[0].replace(\"\\n\",\"\")\n",
    "my_password=my_list[1]"
   ]
  },
  {
   "cell_type": "code",
   "execution_count": 26,
   "id": "b842ff3d-d285-4772-9ad0-d8840938b498",
   "metadata": {},
   "outputs": [],
   "source": [
    "def download_profile_pic(insta_username):\n",
    "    load = instaloader.Instaloader()\n",
    "    try :\n",
    "        profile=instaloader.Profile.from_username(load.context,insta_username)\n",
    "        profile_pic_url = profile.profile_pic_url \n",
    "        response = requests.get(profile_pic_url)\n",
    "        with open (f\"(insta_username)_profile_pic.png\",\"wb\") as dosya:\n",
    "            dosya.write(response.content)\n",
    "        \n",
    "        print(f\"(insta_username) kullanıcının profil fotoğrafı indirildi \")\n",
    "    \n",
    "    except Exception as e :\n",
    "        print(f\"Hata = {e}\")"
   ]
  },
  {
   "cell_type": "code",
   "execution_count": 28,
   "id": "82b81532-cd10-41cf-b804-8c64deddb1fe",
   "metadata": {},
   "outputs": [
    {
     "name": "stdout",
     "output_type": "stream",
     "text": [
      "(insta_username) kullanıcının profil fotoğrafı indirildi \n"
     ]
    }
   ],
   "source": [
    "download_profile_pic(my_username)"
   ]
  },
  {
   "cell_type": "code",
   "execution_count": null,
   "id": "3ee7f9d8-323e-4f5f-8a8e-a2aa9a9a15e8",
   "metadata": {},
   "outputs": [],
   "source": []
  }
 ],
 "metadata": {
  "kernelspec": {
   "display_name": "myenv_bst4",
   "language": "python",
   "name": "myenv_bst4"
  },
  "language_info": {
   "codemirror_mode": {
    "name": "ipython",
    "version": 3
   },
   "file_extension": ".py",
   "mimetype": "text/x-python",
   "name": "python",
   "nbconvert_exporter": "python",
   "pygments_lexer": "ipython3",
   "version": "3.10.10"
  }
 },
 "nbformat": 4,
 "nbformat_minor": 5
}
