{
 "cells": [
  {
   "cell_type": "code",
   "execution_count": 11,
   "id": "61fd418a-c864-4e47-9776-c3e86ff99599",
   "metadata": {},
   "outputs": [],
   "source": [
    "import tensorflow as tf\n",
    "import tensorflow_hub as hub\n",
    "import numpy as np"
   ]
  },
  {
   "cell_type": "code",
   "execution_count": 14,
   "id": "ed4914b3-88ca-4e11-b8e2-0e85c9926c8a",
   "metadata": {},
   "outputs": [],
   "source": [
    "def load_image(image_path):\n",
    "    img=tf.io.read_file(image_path)\n",
    "    img=tf.image.decode_image(img,channels=3)\n",
    "    img=tf.image.convert_image_dtype(img,tf.float32)\n",
    "    img=img[tf.newaxis,:]\n",
    "    return img\n",
    "\n",
    "path=\"http://tfhub.dev/google/magenta/arbitrary-image-stylization-v1-256/2\"\n",
    "model=hub.load(path)"
   ]
  },
  {
   "cell_type": "code",
   "execution_count": 30,
   "id": "a877b447-0401-40b4-8290-7f30ecc8a03f",
   "metadata": {},
   "outputs": [],
   "source": [
    "img_input=load_image(\"./icardi.jpg\")\n",
    "img_style=load_image(\"./salvador.jpg\")\n",
    "\n",
    "img_transformed=model(img_input,img_style)[0]\n",
    "\n",
    "img_transformed=tf.keras.preprocessing.image.array_to_img(img_transformed[0])\n",
    "img_transformed.save(\"transformed_image.png\")"
   ]
  },
  {
   "cell_type": "code",
   "execution_count": null,
   "id": "73fe544e-d1b5-4d7a-bae7-5b56e8f084f1",
   "metadata": {},
   "outputs": [],
   "source": []
  }
 ],
 "metadata": {
  "kernelspec": {
   "display_name": "myenv_bst4",
   "language": "python",
   "name": "myenv_bst4"
  },
  "language_info": {
   "codemirror_mode": {
    "name": "ipython",
    "version": 3
   },
   "file_extension": ".py",
   "mimetype": "text/x-python",
   "name": "python",
   "nbconvert_exporter": "python",
   "pygments_lexer": "ipython3",
   "version": "3.10.10"
  }
 },
 "nbformat": 4,
 "nbformat_minor": 5
}
