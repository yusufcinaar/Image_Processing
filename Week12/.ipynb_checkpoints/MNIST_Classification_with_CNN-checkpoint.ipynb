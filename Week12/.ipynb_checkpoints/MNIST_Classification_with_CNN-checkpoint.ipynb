{
 "cells": [
  {
   "cell_type": "code",
   "execution_count": 1,
   "id": "de7a59b3-37e7-4911-b703-c50d3190cb2a",
   "metadata": {},
   "outputs": [],
   "source": [
    "import tensorflow as tf\n",
    "from tensorflow import keras\n",
    "import matplotlib.pyplot as plt\n",
    "from sklearn.model_selection import train_test_split\n",
    "import numpy as np"
   ]
  },
  {
   "cell_type": "code",
   "execution_count": 3,
   "id": "a38060b8-1c01-4b55-b4d1-471bba50f5d0",
   "metadata": {},
   "outputs": [],
   "source": [
    "# MNIST Veri Setinin Keras Kütüphanesi üzerinden yüklenmesi\n",
    "\n",
    "(x_train, y_train), (x_test, y_test) = keras.datasets.mnist.load_data()"
   ]
  },
  {
   "cell_type": "code",
   "execution_count": 5,
   "id": "8345c29b-6ed9-4a07-8cf0-b0852ac84cb9",
   "metadata": {},
   "outputs": [
    {
     "name": "stdout",
     "output_type": "stream",
     "text": [
      "Eğitim (Train) Verilerinin Sayısı ve Boyutu = (60000, 28, 28, 1)\n",
      "Test Verilerinin Sayısı ve Boyutu = (10000, 28, 28, 1)\n"
     ]
    }
   ],
   "source": [
    "# Veri Ön işleme - Adım 1 - Görüntülerin yeniden boyutlandırılması\n",
    "x_train = x_train.reshape(-1, 28, 28, 1) # -1: Görüntünün toplam sayısı\n",
    "x_test = x_test.reshape(-1, 28, 28, 1)\n",
    "\n",
    "# Veri Ön işleme - Adım 2 - Görüntülerin Normalize edilmesi\n",
    "x_train = x_train.astype('float32') / 255.0\n",
    "x_test = x_test.astype('float32') / 255.0\n",
    "\n",
    "print(f\"Eğitim (Train) Verilerinin Sayısı ve Boyutu = {x_train.shape}\")\n",
    "print(f\"Test Verilerinin Sayısı ve Boyutu = {x_test.shape}\")"
   ]
  },
  {
   "cell_type": "code",
   "execution_count": 7,
   "id": "849a8eb7-8817-4c3b-9154-8d7fa866c6b7",
   "metadata": {},
   "outputs": [
    {
     "data": {
      "text/plain": [
       "<matplotlib.image.AxesImage at 0x1d1fee4ba90>"
      ]
     },
     "execution_count": 7,
     "metadata": {},
     "output_type": "execute_result"
    },
    {
     "data": {
      "image/png": "[encoded data removed]",
      "text/plain": [
       "<Figure size 640x480 with 1 Axes>"
      ]
     },
     "metadata": {},
     "output_type": "display_data"
    }
   ],
   "source": [
    "# Çıkış verisi olarak bu girdi görüntülerinin hangi rakamı temsil ettiğini\n",
    "# gösteren y verilerini düzenliyoruz\n",
    "\n",
    "plt.imshow(x_train[50000],cmap=\"gray\")"
   ]
  },
  {
   "cell_type": "code",
   "execution_count": 9,
   "id": "606ebf3d-b5bc-4f87-8197-b5267d6709ce",
   "metadata": {},
   "outputs": [
    {
     "data": {
      "text/plain": [
       "3"
      ]
     },
     "execution_count": 9,
     "metadata": {},
     "output_type": "execute_result"
    }
   ],
   "source": [
    "y_train[50000]"
   ]
  },
  {
   "cell_type": "code",
   "execution_count": 11,
   "id": "3b4d2f23-9019-4aff-b437-9e3a7c7e472d",
   "metadata": {},
   "outputs": [],
   "source": [
    "# One-hot Encoding\n",
    "y_train = keras.utils.to_categorical(y_train, 10)\n",
    "y_test = keras.utils.to_categorical(y_test, 10)"
   ]
  },
  {
   "cell_type": "code",
   "execution_count": 13,
   "id": "9ea09180-04b5-4469-b852-51b3778762d3",
   "metadata": {},
   "outputs": [
    {
     "data": {
      "text/plain": [
       "array([0., 0., 0., 1., 0., 0., 0., 0., 0., 0.], dtype=float32)"
      ]
     },
     "execution_count": 13,
     "metadata": {},
     "output_type": "execute_result"
    }
   ],
   "source": [
    "y_train[50000]"
   ]
  },
  {
   "cell_type": "code",
   "execution_count": 15,
   "id": "b41fb393-06ad-4bff-9598-a1e7071a1abf",
   "metadata": {},
   "outputs": [],
   "source": [
    "# Eğitim verilerinin %20'sinin doğrulama (validation) verisi olarak ayrılması\n",
    "# Literatürde Data-Split işlemi denilir\n",
    "# Bu işlem genellikle sklear altındaki train_test_split fonksiyonu ile yapılır\n",
    "\n",
    "X_train, X_val, y_train_split, y_val = train_test_split(\n",
    "    x_train, y_train, \n",
    "    test_size=0.2, # validasyon verisi yüzde kaç olacak bilgisi burada\n",
    "    random_state = 42, # rastgelelik işlemini biraz sınırlı tutuyoruz\n",
    "    stratify = y_train # rastgele şekilde dağılım yaparken sınıf dengesini korur\n",
    ")"
   ]
  },
  {
   "cell_type": "code",
   "execution_count": 21,
   "id": "18420c46-edb4-49af-8e98-958df15e0b5a",
   "metadata": {},
   "outputs": [],
   "source": [
    "# CNN tabanlı yapay zekâ modelimizi oluşturuyoruz\n",
    "\n",
    "model = keras.Sequential([\n",
    "    # CNN İlk Blok\n",
    "    keras.layers.Conv2D(32, (3,3), activation='relu', input_shape=(28,28,1)),\n",
    "    keras.layers.BatchNormalization(),\n",
    "    keras.layers.Conv2D(32, (3,3), activation='relu'),\n",
    "    keras.layers.BatchNormalization(),\n",
    "    keras.layers.MaxPooling2D((2,2)),\n",
    "    keras.layers.Dropout(0.25),\n",
    "    \n",
    "    # CNN İkinci Blok\n",
    "    keras.layers.Conv2D(64, (3,3), activation='relu'),\n",
    "    keras.layers.BatchNormalization(),\n",
    "    keras.layers.Conv2D(64, (3,3), activation='relu'),\n",
    "    keras.layers.BatchNormalization(),\n",
    "    keras.layers.MaxPooling2D((2,2)),\n",
    "    keras.layers.Dropout(0.25),\n",
    "\n",
    "    # YAPAY SİNİR AĞI TANIMLIYORUZ\n",
    "    keras.layers.Flatten(),\n",
    "    keras.layers.Dense(512,activation='relu'),\n",
    "    keras.layers.BatchNormalization(),\n",
    "    keras.layers.Dropout(0.5),\n",
    "    keras.layers.Dense(10, activation='softmax') # softmax, çoklu sınıflandırma\n",
    "    #problemlerinde en sık kullanılan aktivasyon fonksiyonudur\n",
    "])"
   ]
  },
  {
   "cell_type": "code",
   "execution_count": 23,
   "id": "f0889a8e-83e6-4da9-be11-854d4af5898e",
   "metadata": {},
   "outputs": [],
   "source": [
    "# Modeli Derliyoruz\n",
    "\n",
    "model.compile(\n",
    "    optimizer='adam',\n",
    "    loss='categorical_crossentropy',\n",
    "    metrics=['accuracy']\n",
    ")"
   ]
  },
  {
   "cell_type": "code",
   "execution_count": 25,
   "id": "38e8570e-c487-4643-9d9c-4c83e9508e30",
   "metadata": {},
   "outputs": [],
   "source": [
    "model_checkpoint = keras.callbacks.ModelCheckpoint(\n",
    "    'mnist_classification_cnn_model.h5',\n",
    "    monitor='val_accuracy',\n",
    "    save_best_only=True,\n",
    "    mode='max',\n",
    "    verbose=1\n",
    ")"
   ]
  },
  {
   "cell_type": "code",
   "execution_count": 29,
   "id": "88f04f6d-93a7-4cbb-bb69-1b8653460b9b",
   "metadata": {},
   "outputs": [
    {
     "name": "stdout",
     "output_type": "stream",
     "text": [
      "Epoch 1/10\n",
      "374/375 [============================>.] - ETA: 0s - loss: 0.1957 - accuracy: 0.9402\n",
      "Epoch 1: val_accuracy improved from -inf to 0.11233, saving model to mnist_classification_cnn_model.h5\n",
      "375/375 [==============================] - 11s 10ms/step - loss: 0.1953 - accuracy: 0.9403 - val_loss: 8.1538 - val_accuracy: 0.1123\n",
      "Epoch 2/10\n",
      "373/375 [============================>.] - ETA: 0s - loss: 0.0649 - accuracy: 0.9794\n",
      "Epoch 2: val_accuracy improved from 0.11233 to 0.98575, saving model to mnist_classification_cnn_model.h5\n",
      "375/375 [==============================] - 3s 9ms/step - loss: 0.0650 - accuracy: 0.9794 - val_loss: 0.0472 - val_accuracy: 0.9858\n",
      "Epoch 3/10\n",
      "372/375 [============================>.] - ETA: 0s - loss: 0.0476 - accuracy: 0.9856\n",
      "Epoch 3: val_accuracy improved from 0.98575 to 0.99042, saving model to mnist_classification_cnn_model.h5\n",
      "375/375 [==============================] - 3s 9ms/step - loss: 0.0476 - accuracy: 0.9856 - val_loss: 0.0331 - val_accuracy: 0.9904\n",
      "Epoch 4/10\n",
      "371/375 [============================>.] - ETA: 0s - loss: 0.0422 - accuracy: 0.9871\n",
      "Epoch 4: val_accuracy improved from 0.99042 to 0.99258, saving model to mnist_classification_cnn_model.h5\n",
      "375/375 [==============================] - 3s 9ms/step - loss: 0.0420 - accuracy: 0.9871 - val_loss: 0.0253 - val_accuracy: 0.9926\n",
      "Epoch 5/10\n",
      "375/375 [==============================] - ETA: 0s - loss: 0.0363 - accuracy: 0.9885\n",
      "Epoch 5: val_accuracy did not improve from 0.99258\n",
      "375/375 [==============================] - 3s 8ms/step - loss: 0.0363 - accuracy: 0.9885 - val_loss: 0.0348 - val_accuracy: 0.9898\n",
      "Epoch 6/10\n",
      "369/375 [============================>.] - ETA: 0s - loss: 0.0311 - accuracy: 0.9903\n",
      "Epoch 6: val_accuracy improved from 0.99258 to 0.99283, saving model to mnist_classification_cnn_model.h5\n",
      "375/375 [==============================] - 3s 9ms/step - loss: 0.0310 - accuracy: 0.9904 - val_loss: 0.0273 - val_accuracy: 0.9928\n",
      "Epoch 7/10\n",
      "374/375 [============================>.] - ETA: 0s - loss: 0.0269 - accuracy: 0.9917\n",
      "Epoch 7: val_accuracy did not improve from 0.99283\n",
      "375/375 [==============================] - 3s 8ms/step - loss: 0.0269 - accuracy: 0.9917 - val_loss: 0.0290 - val_accuracy: 0.9917\n",
      "Epoch 8/10\n",
      "368/375 [============================>.] - ETA: 0s - loss: 0.0245 - accuracy: 0.9921\n",
      "Epoch 8: val_accuracy did not improve from 0.99283\n",
      "375/375 [==============================] - 3s 8ms/step - loss: 0.0250 - accuracy: 0.9920 - val_loss: 0.0434 - val_accuracy: 0.9868\n",
      "Epoch 9/10\n",
      "372/375 [============================>.] - ETA: 0s - loss: 0.0250 - accuracy: 0.9918\n",
      "Epoch 9: val_accuracy did not improve from 0.99283\n",
      "375/375 [==============================] - 3s 9ms/step - loss: 0.0249 - accuracy: 0.9918 - val_loss: 0.0306 - val_accuracy: 0.9915\n",
      "Epoch 10/10\n",
      "373/375 [============================>.] - ETA: 0s - loss: 0.0234 - accuracy: 0.9929\n",
      "Epoch 10: val_accuracy did not improve from 0.99283\n",
      "375/375 [==============================] - 3s 9ms/step - loss: 0.0234 - accuracy: 0.9928 - val_loss: 0.0262 - val_accuracy: 0.9925\n"
     ]
    }
   ],
   "source": [
    "# Modelimizi eğitiyoruz (.fit fonksiyonu ile)\n",
    "with tf.device('/GPU:0'):\n",
    "    history = model.fit(X_train, y_train_split, validation_data=(X_val, y_val),\n",
    "                       batch_size=128, epochs=10, callbacks=model_checkpoint)"
   ]
  },
  {
   "cell_type": "code",
   "execution_count": 31,
   "id": "8ebdbf99-f793-4895-8fa8-779dbbc21440",
   "metadata": {},
   "outputs": [
    {
     "name": "stdout",
     "output_type": "stream",
     "text": [
      "Test işlemi için Değerlendirme yapılıyor\n",
      "313/313 [==============================] - 1s 4ms/step - loss: 0.0194 - accuracy: 0.9932\n",
      "Modelin Loss Performansı = 0.019420281052589417\n",
      "Modelin Accuracy (Doğruluk Başarısı) Performansı = 0.9932000041007996\n"
     ]
    }
   ],
   "source": [
    "print(\"Test işlemi için Değerlendirme yapılıyor\")\n",
    "\n",
    "test_loss, test_accuracy = model.evaluate(x_test, y_test)\n",
    "\n",
    "print(f\"Modelin Loss Performansı = {test_loss}\")\n",
    "print(f\"Modelin Accuracy (Doğruluk Başarısı) Performansı = {test_accuracy}\")"
   ]
  },
  {
   "cell_type": "code",
   "execution_count": null,
   "id": "aabe454c-98fc-41a3-9c8c-1452a40d60f3",
   "metadata": {},
   "outputs": [],
   "source": [
    "DOSYA ADI = MNIST_Classification_with_CNN\n",
    "Commit mesajı = MNIST_Classification_with_two_blocks_of_CNN\n",
    "Klasör adı = Introduction_to_CNN_with_MNIST_Dataset"
   ]
  }
 ],
 "metadata": {
  "kernelspec": {
   "display_name": "tf_gpu_2_9_2",
   "language": "python",
   "name": "tf_gpu_2_9_2"
  },
  "language_info": {
   "codemirror_mode": {
    "name": "ipython",
    "version": 3
   },
   "file_extension": ".py",
   "mimetype": "text/x-python",
   "name": "python",
   "nbconvert_exporter": "python",
   "pygments_lexer": "ipython3",
   "version": "3.10.14"
  }
 },
 "nbformat": 4,
 "nbformat_minor": 5
}
